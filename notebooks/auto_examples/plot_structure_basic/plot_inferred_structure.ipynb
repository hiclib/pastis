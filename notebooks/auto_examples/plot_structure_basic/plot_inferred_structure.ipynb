{
  "cells": [
    {
      "cell_type": "code",
      "execution_count": null,
      "metadata": {
        "collapsed": false
      },
      "outputs": [],
      "source": [
        "%matplotlib inline"
      ]
    },
    {
      "cell_type": "markdown",
      "metadata": {},
      "source": [
        "\n# Plot an inferred 3-d structure with matplotlib\n\nThis example showcases how to plot an inferred 3-d structure output by\nPASTIS using matplotlib.\n"
      ]
    },
    {
      "cell_type": "code",
      "execution_count": null,
      "metadata": {
        "collapsed": false
      },
      "outputs": [],
      "source": [
        "import numpy as np\nfrom mpl_toolkits.mplot3d import axes3d  # noqa: F401 unused import\nimport matplotlib\nimport matplotlib.pyplot as plt\nfrom scipy import interpolate"
      ]
    },
    {
      "cell_type": "markdown",
      "metadata": {},
      "source": [
        "## Define the interpolation function.\n\n"
      ]
    },
    {
      "cell_type": "code",
      "execution_count": null,
      "metadata": {
        "collapsed": false
      },
      "outputs": [],
      "source": [
        "def interpolate_chromosomes(X, lengths, eps=1e-1, smooth=0):\n\n    \"\"\" Returns a smoothed interpolation of the chromosomes.\n\n        Parameters\n        ----------\n        X : ndarray (n, 3)\n        The 3D structure\n\n        lengths : ndarray (L, )\n        The lengths of the chromosomes. Note that the sum of the lengths\n        should correspond to the length of the ndarray of the 3D structure.\n\n        Returns\n        -------\n        smoothed_X : the smoothed 3D structure, with a set of coordinates for\n        each chromosome (ie, the first chromosome's points will be\n        smoothed_X[0]). smoothed_X[0][i] will be a list with an x, y, and\n        z coordinate.\n    \"\"\"\n\n    smoothed_X = [[], []]\n\n    mask = np.invert(np.isnan(X[:, 0]))\n\n    begin, end = 0, 0\n\n    # Loops over each chromosome\n    enumerated_lengths = enumerate(lengths)\n    for i, length in enumerated_lengths:\n        end += length\n\n        # Get the current chromosome's coordinates\n        x = X[begin:end, 0]\n        y = X[begin:end, 1]\n        z = X[begin:end, 2]\n        indx = mask[begin:end]\n\n        if not len(x):\n            break\n\n        # Encode missing values with nan\n        if not indx[0]:\n            x[0] = x[indx][0]\n            x[indx][0] = np.nan\n            y[0] = y[indx][0]\n            y[indx][0] = np.nan\n\n            z[0] = z[indx][0]\n            z[indx][0] = np.nan\n\n        # Encode missing values with nan\n        if not indx[-1]:\n            x[-1] = x[indx][-1]\n            x[indx][-1] = np.nan\n            y[-1] = y[indx][-1]\n            z[indx][-1] = np.nan\n            z[-1] = z[indx][-1]\n            z[indx][-1] = np.nan\n\n        indx = np.invert(np.isnan(x))\n\n        m = np.arange(len(x))[indx]\n\n        # Get interpolation functions for the x, y, and z coordinates\n        f_x = interpolate.Rbf(m, x[indx], smooth=smooth)\n        f_y = interpolate.Rbf(m, y[indx], smooth=smooth)\n        f_z = interpolate.Rbf(m, z[indx], smooth=smooth)\n\n        # Use interpolation functions to create curve segments between\n        # adjacent (adjacent in the parameter X, for the current chromosome)\n        # coordinate beads\n        for j in range(length - 1):\n            if (j < length - 2):\n                m = np.arange(j, j + 1 + 0.1, 0.1)\n            else:\n                m = np.arange(j, j + 1, 0.1)\n            smoothed_X[i].append([f_x(np.arange(m.min(), m.max(), 0.1)),\n                                  f_y(np.arange(m.min(), m.max(), 0.1)),\n                                  f_z(np.arange(m.min(), m.max(), 0.1))])\n\n        begin = end\n\n    return smoothed_X"
      ]
    },
    {
      "cell_type": "markdown",
      "metadata": {},
      "source": [
        "## Define the function to scatter the beads.\n\n"
      ]
    },
    {
      "cell_type": "code",
      "execution_count": null,
      "metadata": {
        "collapsed": false
      },
      "outputs": [],
      "source": [
        "def scatter_beads(x, y, z, bead_size, name, curr_cmap, indices, ax):\n    last_idx = len(x) - 1\n    ax.scatter(x[0], y[0], z[0], s=bead_size, color=curr_cmap(indices[0]),\n               label=name + ' start')\n    ax.scatter(x[1:last_idx], y[1:last_idx], z[1:last_idx], s=bead_size,\n               cmap=curr_cmap, c=indices[1:last_idx])\n    ax.scatter(x[last_idx], y[last_idx], z[last_idx], s=bead_size,\n               color=curr_cmap(indices[last_idx]), label=name + ' end')"
      ]
    },
    {
      "cell_type": "markdown",
      "metadata": {},
      "source": [
        "## Define the function to lighten or darken our color map.\n\n"
      ]
    },
    {
      "cell_type": "code",
      "execution_count": null,
      "metadata": {
        "collapsed": false
      },
      "outputs": [],
      "source": [
        "def cmap_map(function, cmap):\n    # Function taken from:\n    # https://scipy-cookbook.readthedocs.io/items/Matplotlib_ColormapTransformations.html\n\n    \"\"\" Applies function (which should operate on vectors of shape 3:\n        [r, g, b]), on colormap cmap. This routine will break any discontinuous\n        points in a colormap.\n    \"\"\"\n    cdict = cmap._segmentdata\n    step_dict = {}\n    # First get the list of points where the segments start or end\n    for key in ('red', 'green', 'blue'):\n        step_dict[key] = list(map(lambda x: x[0], cdict[key]))\n    step_list = sum(step_dict.values(), [])\n    step_list = np.array(list(set(step_list)))\n    # Then compute the LUT, and apply the function to the LUT\n    reduced_cmap = lambda step: np.array(cmap(step)[0: 3])\n    old_LUT = np.array(list(map(reduced_cmap, step_list)))\n    new_LUT = np.array(list(map(function, old_LUT)))\n    # Now try to make a minimal segment definition of the new LUT\n    cdict = {}\n    for i, key in enumerate(['red', 'green', 'blue']):\n        this_cdict = {}\n        for j, step in enumerate(step_list):\n            if step in step_dict[key]:\n                this_cdict[step] = new_LUT[j, i]\n            elif new_LUT[j, i] != old_LUT[j, i]:\n                this_cdict[step] = new_LUT[j, i]\n        colorvector = list(map(lambda x: x + (x[1], ), this_cdict.items()))\n        colorvector.sort()\n        cdict[key] = colorvector\n\n    return matplotlib.colors.LinearSegmentedColormap('colormap', cdict, 1024)"
      ]
    },
    {
      "cell_type": "markdown",
      "metadata": {},
      "source": [
        "## Load the coordinates for the two chromosomes.\n\nNote: both of the chromosomes have length 60 (the array is length 120).\n\n"
      ]
    },
    {
      "cell_type": "code",
      "execution_count": null,
      "metadata": {
        "collapsed": false
      },
      "outputs": [],
      "source": [
        "coordinates = np.loadtxt('data/struct_inferred.000.coords', delimiter=\" \")\ntheLengths = np.array([60, 60])\n\n# Get the first chromosome's coordinates\nstart, end = 0, theLengths[0]\nx1 = coordinates[:, 0][start: end]\ny1 = coordinates[:, 1][start: end]\nz1 = coordinates[:, 2][start: end]\n\n# Get the second chromosome's coordinates\nstart, end = end, end + theLengths[1]\nx2 = coordinates[:, 0][start: end]\ny2 = coordinates[:, 1][start: end]\nz2 = coordinates[:, 2][start: end]"
      ]
    },
    {
      "cell_type": "markdown",
      "metadata": {},
      "source": [
        "## Interpolate the coordinates of the chromosomes.\n\n"
      ]
    },
    {
      "cell_type": "code",
      "execution_count": null,
      "metadata": {
        "collapsed": false
      },
      "outputs": [],
      "source": [
        "chrom1, chrom2 = interpolate_chromosomes(coordinates, theLengths)"
      ]
    },
    {
      "cell_type": "markdown",
      "metadata": {},
      "source": [
        "## Plot the chromosomes.\n\n"
      ]
    },
    {
      "cell_type": "code",
      "execution_count": null,
      "metadata": {
        "collapsed": false
      },
      "outputs": [],
      "source": [
        "fig = plt.figure(figsize=(15, 15))\nax = fig.add_subplot(111, projection='3d')\n\n# Get our colors set up. color_beads determines which color in our color map\n# each bead will have.\ncolor_beads = np.linspace(0, 1, len(x1))\n\n# We will use a spectral color cmap. Since we are plotting two chromosomes,\n# let's make chromosome one a bit darker (hence x * 0.85) and chromosome two\n# a bit lighter (hence x * 1.5). Feel free to twiddle with these configruations\n# or change color maps entirely.\ncmap1 = cmap_map(lambda x: x*0.85, matplotlib.cm.get_cmap('Spectral'))\ncmap2 = cmap_map(lambda x: x*1.5, matplotlib.cm.get_cmap('Spectral'))\n\n# Scatter the beads for each chromosome.\nscatter_beads(x1, y1, z1, 50, 'chromosome 1', cmap1, color_beads, ax)\nscatter_beads(x2, y2, z2, 50, 'chromosome 2', cmap2, color_beads, ax)\n\n# Plot the points we interpolated that go in between each chromosome as\n# a curve.\nfor i in range(59):\n    ax.plot(chrom1[i][0], chrom1[i][1], chrom1[i][2],\n            color=cmap1(color_beads[i]))\n    ax.plot(chrom2[i][0], chrom2[i][1], chrom2[i][2],\n            color=cmap2(color_beads[i]))\n\n# Set the labels, title, legend, and view angle and position. Show the plot.\nax.set_xlabel('x', fontsize=20)\nax.set_ylabel('y', fontsize=20)\nax.set_zlabel('z', fontsize=20)\nplt.legend(loc='best')\nplt.title('Inferred 3d Structures', fontsize=25)\nax.view_init(15, 300)\nplt.show()"
      ]
    }
  ],
  "metadata": {
    "kernelspec": {
      "display_name": "Python 3",
      "language": "python",
      "name": "python3"
    },
    "language_info": {
      "codemirror_mode": {
        "name": "ipython",
        "version": 3
      },
      "file_extension": ".py",
      "mimetype": "text/x-python",
      "name": "python",
      "nbconvert_exporter": "python",
      "pygments_lexer": "ipython3",
      "version": "3.9.2"
    }
  },
  "nbformat": 4,
  "nbformat_minor": 0
}