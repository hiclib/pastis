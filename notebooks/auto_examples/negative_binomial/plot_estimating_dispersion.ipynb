{
  "cells": [
    {
      "cell_type": "code",
      "execution_count": null,
      "metadata": {
        "collapsed": false
      },
      "outputs": [],
      "source": [
        "%matplotlib inline"
      ]
    },
    {
      "cell_type": "markdown",
      "metadata": {},
      "source": [
        "\n# Estimating the dispersion parameter\n\nHere, we show how to estimate the dispersion parameter with Pastis.\n"
      ]
    },
    {
      "cell_type": "code",
      "execution_count": null,
      "metadata": {
        "collapsed": false
      },
      "outputs": [],
      "source": [
        "import matplotlib.pyplot as plt\nimport numpy as np\nfrom iced import datasets\nimport iced\nfrom pastis import dispersion"
      ]
    },
    {
      "cell_type": "markdown",
      "metadata": {},
      "source": [
        "Load a Yeast dataset, and a human dataset\n\n"
      ]
    },
    {
      "cell_type": "code",
      "execution_count": null,
      "metadata": {
        "collapsed": false
      },
      "outputs": [],
      "source": [
        "counts, lengths = datasets.load_sample_yeast()"
      ]
    },
    {
      "cell_type": "markdown",
      "metadata": {},
      "source": [
        "Normalize the contact count data, but keep the biases to estimate the\ndispersion\n\n"
      ]
    },
    {
      "cell_type": "code",
      "execution_count": null,
      "metadata": {
        "collapsed": false
      },
      "outputs": [],
      "source": [
        "counts = iced.filter.filter_low_counts(counts, percentage=0.06)\nnormed_counts, biases = iced.normalization.ICE_normalization(\n    counts,\n    output_bias=True)"
      ]
    },
    {
      "cell_type": "markdown",
      "metadata": {},
      "source": [
        "Now, estimate the variance and mean for every genomic distance\n\nNote that in order to have an unbiased estimation of the variance, you need\nto provide the bias vector.\n\n"
      ]
    },
    {
      "cell_type": "code",
      "execution_count": null,
      "metadata": {
        "collapsed": false
      },
      "outputs": [],
      "source": [
        "_, mean, variance, weights = dispersion.compute_mean_variance(\n    counts, lengths, bias=biases)"
      ]
    },
    {
      "cell_type": "markdown",
      "metadata": {},
      "source": [
        "Now, estimate a constant and a functional dispersion parameter.\n\n"
      ]
    },
    {
      "cell_type": "code",
      "execution_count": null,
      "metadata": {
        "collapsed": false
      },
      "outputs": [],
      "source": [
        "cst_disp = dispersion.ExponentialDispersion(degree=0)\ncst_disp.fit(mean, variance, sample_weights=weights**0.5)\n\nfun_disp = dispersion.ExponentialDispersion(degree=1)\nfun_disp.fit(mean, variance, sample_weights=weights**0.5)"
      ]
    },
    {
      "cell_type": "markdown",
      "metadata": {},
      "source": [
        "Plot the dispersion as a function of the mean\n\n"
      ]
    },
    {
      "cell_type": "code",
      "execution_count": null,
      "metadata": {
        "collapsed": false
      },
      "outputs": [],
      "source": [
        "fig, ax = plt.subplots()\nax.plot(mean, cst_disp.predict(mean), label=\"constant\")\nax.plot(mean, fun_disp.predict(mean), label=\"functional\")\nax.legend()\n\nax.set_xlabel(\"Mean\", fontweight=\"bold\")\nax.set_ylabel(\"Dispersion\", fontweight=\"bold\")\nax.set_title(\"Estimating a dispersion parameter\", fontweight=\"bold\")\nax.spines['right'].set_color('none')\nax.spines['top'].set_color('none')\nax.xaxis.set_ticks_position('bottom')\nax.yaxis.set_ticks_position('left')"
      ]
    }
  ],
  "metadata": {
    "kernelspec": {
      "display_name": "Python 3",
      "language": "python",
      "name": "python3"
    },
    "language_info": {
      "codemirror_mode": {
        "name": "ipython",
        "version": 3
      },
      "file_extension": ".py",
      "mimetype": "text/x-python",
      "name": "python",
      "nbconvert_exporter": "python",
      "pygments_lexer": "ipython3",
      "version": "3.9.2"
    }
  },
  "nbformat": 4,
  "nbformat_minor": 0
}