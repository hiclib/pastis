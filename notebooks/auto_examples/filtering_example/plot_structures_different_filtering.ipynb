{
  "cells": [
    {
      "cell_type": "code",
      "execution_count": null,
      "metadata": {
        "collapsed": false
      },
      "outputs": [],
      "source": [
        "%matplotlib inline"
      ]
    },
    {
      "cell_type": "markdown",
      "metadata": {},
      "source": [
        "\n# Plot 3-d structures inferred with different levels of filtering with matplotlib\n\nThis example plots two 3-d structures (with matplotlib) inferred with different\nlevels of filtering to showcase how increasing filtering when running PASTIS\ncan result in a better-looking inferred structure.\n"
      ]
    },
    {
      "cell_type": "code",
      "execution_count": null,
      "metadata": {
        "collapsed": false
      },
      "outputs": [],
      "source": [
        "import numpy as np\nfrom mpl_toolkits.mplot3d import axes3d  # noqa: F401 unused import\nimport matplotlib\nimport matplotlib.pyplot as plt\nfrom scipy import interpolate"
      ]
    },
    {
      "cell_type": "markdown",
      "metadata": {},
      "source": [
        "## Define the interpolation function.\n\n"
      ]
    },
    {
      "cell_type": "code",
      "execution_count": null,
      "metadata": {
        "collapsed": false
      },
      "outputs": [],
      "source": [
        "def interpolate_chromosomes(X, lengths, eps=1e-1, smooth=0):\n\n    \"\"\" Returns a smoothed interpolation of the chromosomes.\n\n        Parameters\n        ----------\n        X : ndarray (n, 3)\n        The 3D structure\n\n        lengths : ndarray (L, )\n        The lengths of the chromosomes. Note that the sum of the lengths\n        should correspond to the length of the ndarray of the 3D structure.\n\n        Returns\n        -------\n        smoothed_X : the smoothed 3D structure, with a set of coordinates for\n        each chromosome (ie, the first chromosome's points will be\n        smoothed_X[0]). smoothed_X[0][i] will be a list with an x, y, and\n        z coordinate.\n    \"\"\"\n\n    smoothed_X = [[], []]\n\n    mask = np.invert(np.isnan(X[:, 0]))\n\n    begin, end = 0, 0\n\n    # Loops over each chromosome\n    enumerated_lengths = enumerate(lengths)\n    for i, length in enumerated_lengths:\n        end += length\n\n        # Get the current chromosome's coordinates\n        x = X[begin:end, 0]\n        y = X[begin:end, 1]\n        z = X[begin:end, 2]\n        indx = mask[begin:end]\n\n        if not len(x):\n            break\n\n        # Encode missing values with nan\n        if not indx[0]:\n            x[0] = x[indx][0]\n            x[indx][0] = np.nan\n            y[0] = y[indx][0]\n            y[indx][0] = np.nan\n\n            z[0] = z[indx][0]\n            z[indx][0] = np.nan\n\n        # Encode missing values with nan\n        if not indx[-1]:\n            x[-1] = x[indx][-1]\n            x[indx][-1] = np.nan\n            y[-1] = y[indx][-1]\n            z[indx][-1] = np.nan\n            z[-1] = z[indx][-1]\n            z[indx][-1] = np.nan\n\n        indx = np.invert(np.isnan(x))\n\n        m = np.arange(len(x))[indx]\n\n        # Get interpolation functions for the x, y, and z coordinates\n        f_x = interpolate.Rbf(m, x[indx], smooth=smooth)\n        f_y = interpolate.Rbf(m, y[indx], smooth=smooth)\n        f_z = interpolate.Rbf(m, z[indx], smooth=smooth)\n\n        # Use interpolation functions to create curve segments between\n        # adjacent (adjacent in the parameter X, for the current chromosome)\n        # coordinate beads\n        for j in range(length - 1):\n            if (j < length - 2):\n                m = np.arange(j, j + 1 + 0.1, 0.1)\n            else:\n                m = np.arange(j, j + 1, 0.1)\n            smoothed_X[i].append([f_x(np.arange(m.min(), m.max(), 0.1)),\n                                  f_y(np.arange(m.min(), m.max(), 0.1)),\n                                  f_z(np.arange(m.min(), m.max(), 0.1))])\n\n        begin = end\n\n    return smoothed_X"
      ]
    },
    {
      "cell_type": "markdown",
      "metadata": {},
      "source": [
        "## Define the function to scatter the beads.\n\n"
      ]
    },
    {
      "cell_type": "code",
      "execution_count": null,
      "metadata": {
        "collapsed": false
      },
      "outputs": [],
      "source": [
        "def scatter_beads(x, y, z, bead_size, curr_cmap, indices, ax):\n    last_idx = len(x) - 1\n    ax.scatter(x[0], y[0], z[0], s=bead_size, color=curr_cmap(indices[0]),\n               label='start')\n    ax.scatter(x[1:last_idx], y[1:last_idx], z[1:last_idx], s=bead_size,\n               cmap=curr_cmap, c=indices[1:last_idx])\n    ax.scatter(x[last_idx], y[last_idx], z[last_idx], s=bead_size,\n               color=curr_cmap(indices[last_idx]), label='end')"
      ]
    },
    {
      "cell_type": "markdown",
      "metadata": {},
      "source": [
        "## Define the function to lighten or darken our color map.\n\n"
      ]
    },
    {
      "cell_type": "code",
      "execution_count": null,
      "metadata": {
        "collapsed": false
      },
      "outputs": [],
      "source": [
        "def cmap_map(function, cmap):\n    # Function taken from:\n    # https://scipy-cookbook.readthedocs.io/items/Matplotlib_ColormapTransformations.html\n\n    \"\"\" Applies function (which should operate on vectors of shape 3:\n        [r, g, b]), on colormap cmap. This routine will break any discontinuous\n        points in a colormap.\n    \"\"\"\n    cdict = cmap._segmentdata\n    step_dict = {}\n    # First get the list of points where the segments start or end\n    for key in ('red', 'green', 'blue'):\n        step_dict[key] = list(map(lambda x: x[0], cdict[key]))\n    step_list = sum(step_dict.values(), [])\n    step_list = np.array(list(set(step_list)))\n\n    # Then compute the LUT, and apply the function to the LUT\n    def reduced_cmap(step):\n        return np.array(cmap(step)[0:3])\n    cmap_stepped = []\n    for curr_step in step_list:\n        cmap_stepped.append(reduced_cmap(curr_step))\n    old_LUT = np.array(cmap_stepped)\n    new_LUT = np.array(list(map(function, old_LUT)))\n    # Now try to make a minimal segment definition of the new LUT\n    cdict = {}\n    for i, key in enumerate(['red', 'green', 'blue']):\n        this_cdict = {}\n        for j, step in enumerate(step_list):\n            if step in step_dict[key]:\n                this_cdict[step] = new_LUT[j, i]\n            elif new_LUT[j, i] != old_LUT[j, i]:\n                this_cdict[step] = new_LUT[j, i]\n        colorvector = list(map(lambda x: x + (x[1], ), this_cdict.items()))\n        colorvector.sort()\n        cdict[key] = colorvector\n\n    return matplotlib.colors.LinearSegmentedColormap('colormap', cdict, 1024)"
      ]
    },
    {
      "cell_type": "markdown",
      "metadata": {},
      "source": [
        "## Define the function to plot the coordinates\n\n"
      ]
    },
    {
      "cell_type": "code",
      "execution_count": null,
      "metadata": {
        "collapsed": false
      },
      "outputs": [],
      "source": [
        "def plot_structure(struct_file_name, contact_counts, title=None):\n    # Load in the structure from its file\n    coord_arr = np.loadtxt(struct_file_name, delimiter=\" \")\n\n    # Get the length of the structure\n    struct_length = np.array([len(coord_arr)])\n\n    # Get the structures coordinates\n    start, end = 0, struct_length[0]\n    x = coord_arr[:, 0][start:end]\n    y = coord_arr[:, 1][start:end]\n    z = coord_arr[:, 2][start:end]\n\n    # Interpolate the coordinates of the structure\n    chrom = np.array(interpolate_chromosomes(coord_arr, struct_length)[0])\n\n    # Get the plot ready\n    fig = plt.figure(figsize=(15, 15))\n    ax = fig.add_subplot(111, projection='3d')\n\n    # Get our colors set up. color_beads determines which color in our color\n    # map each bead will have.\n    color_indices = np.linspace(0, 1, len(x))\n\n    # We will use a spectral color cmap.\n    the_cmap = cmap_map(lambda x: x*0.85, matplotlib.cm.get_cmap('Spectral'))\n\n    # Scatter the beads for the chromosome.\n    scatter_beads(x, y, z, 50, the_cmap, color_indices, ax)\n\n    # Plot the points we interpolated that go in between the beads of the\n    # chromosome.\n    for i in range(struct_length[0] - 1):\n        ax.plot(chrom[i][0], chrom[i][1], chrom[i][2],\n                color=the_cmap(color_indices[i]))\n\n    # Set the labels, title, legend, and view angle and position. Show the\n    # plot.\n    ax.set_xlabel('x', fontsize=20)\n    ax.set_ylabel('y', fontsize=20)\n    ax.set_zlabel('z', fontsize=20)\n    plt.legend(loc='best')\n    plt.title(title, fontsize=25)\n    ax.view_init(15, 300)"
      ]
    },
    {
      "cell_type": "markdown",
      "metadata": {},
      "source": [
        "Load the contact counts\n\n"
      ]
    },
    {
      "cell_type": "code",
      "execution_count": null,
      "metadata": {
        "collapsed": false
      },
      "outputs": [],
      "source": [
        "contact_counts = np.load('data/contact_counts.npy')"
      ]
    },
    {
      "cell_type": "markdown",
      "metadata": {},
      "source": [
        "Plot the structure with less filtering. As we can see, this structure looks\nquite odd, with spikes shooting out to single beads that are far away from\nthe rest of the structure.\n\n"
      ]
    },
    {
      "cell_type": "code",
      "execution_count": null,
      "metadata": {
        "collapsed": false
      },
      "outputs": [],
      "source": [
        "plot_structure('data/struct_inferred_less.000.coords', contact_counts,\n               'Inferred 3-d structure (Less Filtering)')"
      ]
    },
    {
      "cell_type": "markdown",
      "metadata": {},
      "source": [
        "Plot the structure with more filtering. As we can see, this structure looks\nsignificantly better, as bins with low coverage in the contact counts matrix\nwere filtered more heavily before PASTIS inferred the structure.\n\n"
      ]
    },
    {
      "cell_type": "code",
      "execution_count": null,
      "metadata": {
        "collapsed": false
      },
      "outputs": [],
      "source": [
        "plot_structure('data/struct_inferred_more.000.coords', contact_counts,\n               'Inferred 3-d structure (More Filtering)')"
      ]
    }
  ],
  "metadata": {
    "kernelspec": {
      "display_name": "Python 3",
      "language": "python",
      "name": "python3"
    },
    "language_info": {
      "codemirror_mode": {
        "name": "ipython",
        "version": 3
      },
      "file_extension": ".py",
      "mimetype": "text/x-python",
      "name": "python",
      "nbconvert_exporter": "python",
      "pygments_lexer": "ipython3",
      "version": "3.9.2"
    }
  },
  "nbformat": 4,
  "nbformat_minor": 0
}