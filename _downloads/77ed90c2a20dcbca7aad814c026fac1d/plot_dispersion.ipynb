{
  "cells": [
    {
      "cell_type": "code",
      "execution_count": null,
      "metadata": {
        "collapsed": false
      },
      "outputs": [],
      "source": [
        "%matplotlib inline"
      ]
    },
    {
      "cell_type": "markdown",
      "metadata": {},
      "source": [
        "\n# Estimating the dispersion\n\nAre Hi-C contact count data overdispersed?\n"
      ]
    },
    {
      "cell_type": "code",
      "execution_count": null,
      "metadata": {
        "collapsed": false
      },
      "outputs": [],
      "source": [
        "import matplotlib.pyplot as plt\nimport numpy as np\nfrom iced import datasets\nimport iced\nfrom pastis import dispersion"
      ]
    },
    {
      "cell_type": "markdown",
      "metadata": {},
      "source": [
        "Load a Yeast dataset, and a human dataset\n\n"
      ]
    },
    {
      "cell_type": "code",
      "execution_count": null,
      "metadata": {
        "collapsed": false
      },
      "outputs": [],
      "source": [
        "counts, lengths = datasets.load_sample_yeast()"
      ]
    },
    {
      "cell_type": "markdown",
      "metadata": {},
      "source": [
        "Normalize the contact count data, but keep the biases to estimate the\ndispersion\n\n"
      ]
    },
    {
      "cell_type": "code",
      "execution_count": null,
      "metadata": {
        "collapsed": false
      },
      "outputs": [],
      "source": [
        "counts = iced.filter.filter_low_counts(counts, percentage=0.06)\nnormed_counts, biases = iced.normalization.ICE_normalization(\n    counts,\n    output_bias=True)"
      ]
    },
    {
      "cell_type": "markdown",
      "metadata": {},
      "source": [
        "Now, estimate the variance and mean for every genomic distance\n\nNote that in order to have an unbiased estimation of the variance, you need\nto provide the bias vector.\n\n"
      ]
    },
    {
      "cell_type": "code",
      "execution_count": null,
      "metadata": {
        "collapsed": false
      },
      "outputs": [],
      "source": [
        "_, mean, variance, _ = dispersion.compute_mean_variance(\n    counts, lengths, bias=biases)"
      ]
    },
    {
      "cell_type": "markdown",
      "metadata": {},
      "source": [
        "And now plot the resulting mean versus variance\n\n"
      ]
    },
    {
      "cell_type": "code",
      "execution_count": null,
      "metadata": {
        "collapsed": false
      },
      "outputs": [],
      "source": [
        "fig, ax = plt.subplots()\ns = ax.scatter(mean, variance, linewidth=0, marker=\"o\",\n               s=20)\n\nax.set_xscale(\"log\")\nax.set_yscale(\"log\")\nax.set_xlabel(\"Mean\", fontweight=\"bold\")\nax.set_ylabel(\"Variance\", fontweight=\"bold\")\nxmin, xmax = ax.get_xlim()\nymin, ymax = ax.get_ylim()\n\nax.plot(np.arange(1e-1, 1e7, 1e6),\n        np.arange(1e-1, 1e7, 1e6),\n        linewidth=1,\n        linestyle=\"--\", color=(0, 0, 0))\n\nax.spines['right'].set_color('none')\nax.spines['top'].set_color('none')\nax.xaxis.set_ticks_position('bottom')\nax.yaxis.set_ticks_position('left')\nax.set_ylim((min(ymin, xmin), max(xmax, ymax)))\nax.set_xlim((min(ymin, xmin), max(xmax, ymax)))\nax.set_title(\"Are contat counts overdispersed?\", fontweight=\"bold\")\n\nax.grid(\"off\")"
      ]
    }
  ],
  "metadata": {
    "kernelspec": {
      "display_name": "Python 3",
      "language": "python",
      "name": "python3"
    },
    "language_info": {
      "codemirror_mode": {
        "name": "ipython",
        "version": 3
      },
      "file_extension": ".py",
      "mimetype": "text/x-python",
      "name": "python",
      "nbconvert_exporter": "python",
      "pygments_lexer": "ipython3",
      "version": "3.9.2"
    }
  },
  "nbformat": 4,
  "nbformat_minor": 0
}