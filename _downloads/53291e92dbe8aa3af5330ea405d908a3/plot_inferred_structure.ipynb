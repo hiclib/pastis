{
  "cells": [
    {
      "cell_type": "markdown",
      "metadata": {},
      "source": [
        "\n# Plot an inferred 3D structure with matplotlib\n\nThis example showcases how to plot an inferred 3D structure output by\nPASTIS using matplotlib.\n"
      ]
    },
    {
      "cell_type": "code",
      "execution_count": null,
      "metadata": {
        "collapsed": false
      },
      "outputs": [],
      "source": [
        "import numpy as np\nimport matplotlib\nimport matplotlib.pyplot as plt\nfrom mpl_toolkits.mplot3d.art3d import Line3DCollection\nfrom scipy import interpolate\n\n\ndef modify_cmap(function, cmap):\n    \"\"\"Lighten or darken a given colormap.\n\n    Applies function (which should operate on vectors of shape 3:\n    [r, g, b]), on colormap cmap. This routine will break any discontinuous\n    points in a colormap.\n\n    Adapted from:\n    https://scipy-cookbook.readthedocs.io/items/Matplotlib_ColormapTransformations.html\n    \"\"\"\n    cdict = cmap._segmentdata\n    step_dict = {}\n    # Get the list of points where the segments start or end\n    for key in ('red', 'green', 'blue'):\n        step_dict[key] = list(map(lambda x: x[0], cdict[key]))\n    step_list = sum(step_dict.values(), [])\n    step_list = np.array(list(set(step_list)))\n\n    # Compute the LUT, and apply the function to the LUT\n    def reduce_cmap(step):\n        return np.array(cmap(step)[0:3])\n    old_LUT = np.array([reduce_cmap(x) for x in step_list])\n    new_LUT = np.array([function(x) for x in old_LUT])\n\n    # Try to make a minimal segment definition of the new LUT\n    cdict = {}\n    for i, key in enumerate(['red', 'green', 'blue']):\n        this_cdict = {}\n        for j, step in enumerate(step_list):\n            if step in step_dict[key]:\n                this_cdict[step] = new_LUT[j, i]\n            elif new_LUT[j, i] != old_LUT[j, i]:\n                this_cdict[step] = new_LUT[j, i]\n        colorvector = list(map(lambda x: x + (x[1], ), this_cdict.items()))\n        colorvector.sort()\n        cdict[key] = colorvector\n\n    return matplotlib.colors.LinearSegmentedColormap('colormap', cdict, 1024)\n\n\ndef interpolate_chromosome(chrom, eps=0.1):\n    \"\"\"Interpolate a smooth line between the beads of a given chromosome.\n\n    Should only be run on a single chromosome molecule.\n\n    Parameters\n    ----------\n    chrom : array of float\n    The 3D structure of a given chromosome (nbeads, 3).\n\n    eps : float, optional\n    Frequency of points to be interpolated. A value of '1' simply replaces any\n    NaN beads with interpolated values, but does not form a line connecting\n    between adjacent beads.\n\n    Returns\n    -------\n    chrom_interp : array of float\n    The smoothed 3D structure for the given chromosome.\n    \"\"\"\n\n    # Select non-NaN beads\n    mask = np.invert(np.isnan(chrom[:, 0]))\n    if mask.sum() < 2:\n        return None  # Skip chromosomes with < 2 non-NaN beads\n\n    x = chrom[mask, 0]\n    y = chrom[mask, 1]\n    z = chrom[mask, 2]\n\n    # Get interpolation functions for the x, y, and z coordinates\n    bead_idx = np.arange(chrom.shape[0])[mask]\n    f_x = interpolate.Rbf(bead_idx, x, smooth=0)\n    f_y = interpolate.Rbf(bead_idx, y, smooth=0)\n    f_z = interpolate.Rbf(bead_idx, z, smooth=0)\n\n    # Use interpolation functions to create line segments between adjacent\n    # coordinate beads\n    line_idx = np.arange(bead_idx.min(), bead_idx.max() + eps, eps)\n    chrom_interp = np.array([f_x(line_idx), f_y(line_idx), f_z(line_idx)]).T\n\n    return chrom_interp\n\n\ndef plot_chromosome(chrom, ax=None, cmap=None, name=None, bead_size=50):\n    \"\"\"Plot a single chromosome molecule on the supplied axis.\n\n    Beads are represented as translucent circles, and a line is interpolated\n    between adjacent beads. Should only be run on a single chromosome molecule.\n\n    Parameters\n    ----------\n    chrom : array of float\n    The coordinates of the 3D structure of a given chromosome,\n    shape=(nbeads_chrom, 3).\n\n    ax : matplotlib.axes.Axes object, optional\n    The matplotlib axis on which to plot the chromosome. If absent, a new\n    figure will be created.\n\n    cmap : matplotlib.colors.Colormap object, optional\n    The matplotlib colormap with which to color the beads and lines.\n\n    name : str, optional\n    The name for the given chromosome, to be displayed in the plot legend.\n\n    bead_size : int, optional\n    Size for each bead in the plotted 3D structure.\n\n    Returns\n    -------\n    ax : matplotlib.axes.Axes object\n    The matplotlib axis on which the chromosome has been plotted.\n    \"\"\"\n\n    if cmap is None:\n        cmap = matplotlib.colormaps['Spectral']\n    if ax is None:\n        fig = plt.figure(figsize=(15, 15))\n        ax = fig.add_subplot(111, projection='3d')\n        ax.set_xlabel('x', fontsize=20)\n        ax.set_ylabel('y', fontsize=20)\n        ax.set_zlabel('z', fontsize=20)\n        ax.view_init(15, 300)\n    if name is None:\n        name = \"\"\n    elif name != \"\":\n        name = f\"{name} \"\n\n    # Select non-NaN beads\n    mask = np.invert(np.isnan(chrom[:, 0]))\n    if mask.sum() == 0:\n        return ax  # Chromosome beads are all NaN, nothing to plot\n\n    # Determine which color in our colormap each bead will have\n    bead_color_idx = np.linspace(0, 1, chrom.shape[0])[mask]\n\n    # Plot the beads for the current chromosome\n    x = chrom[mask, 0]\n    y = chrom[mask, 1]\n    z = chrom[mask, 2]\n    ax.scatter(x[0], y[0], z[0], s=bead_size, color=cmap(bead_color_idx[0]),\n               label=f\"{name}start\")\n    if x.shape[0] > 2:\n        ax.scatter(x[1:-1], y[1:-1], z[1:-1], s=bead_size,\n                   cmap=cmap, c=bead_color_idx[1:-1])\n    ax.scatter(x[-1], y[-1], z[-1], s=bead_size,\n               color=cmap(bead_color_idx[-1]), label=f\"{name}end\")\n\n    # Interpolate the structure's beads to form a continuous line between beads\n    chrom_interp = interpolate_chromosome(chrom)\n\n    if chrom_interp is not None:\n        # Determine which color in our colormap each line segment will have\n        line_color_idx = np.linspace(\n            bead_color_idx.min(), bead_color_idx.max(), chrom_interp.shape[0])\n\n        # Plot this chromosome's interpolated coordinates as a continuous line\n        # that connects between adjacent beads\n        points = chrom_interp.reshape(-1, 1, 3)\n        segments = np.concatenate([points[:-1], points[1:]], axis=1)\n        lc = Line3DCollection(segments, cmap=cmap)\n        lc.set_array(line_color_idx)  # Set the values used for colormapping\n        lc.set_linewidth(2)\n        ax.add_collection(lc)\n\n    return ax"
      ]
    },
    {
      "cell_type": "markdown",
      "metadata": {},
      "source": [
        "## Load the struct for the two chromosomes.\n\n"
      ]
    },
    {
      "cell_type": "code",
      "execution_count": null,
      "metadata": {
        "collapsed": false
      },
      "outputs": [],
      "source": [
        "struct = np.loadtxt('data/struct_inferred.000.coords')\nlengths = np.array([60, 60])  # Two chromosomes, each of which has 60 beads\n\n# Setup figure: labels, title, and view angle/position\nfig = plt.figure(figsize=(15, 15))\nax = fig.add_subplot(111, projection='3d')\nax.set_xlabel('x', fontsize=20)\nax.set_ylabel('y', fontsize=20)\nax.set_zlabel('z', fontsize=20)\nplt.title('Inferred 3D structure', fontsize=25)\nax.view_init(15, 300)  # Set initial view angle & position\n\n# We will use a spectral color cmap. Since we are plotting two chromosomes,\n# let's make 'chromosome 1' a bit darker (hence x * 0.85) and 'chromosome 2'\n# a bit lighter (hence x * 1.5). Feel free to twiddle with these configruations\n# or change color maps entirely.\ncmap1 = modify_cmap(lambda x: x * 0.85, cmap=matplotlib.colormaps['Spectral'])\ncmap2 = modify_cmap(lambda x: x * 1.5, cmap=matplotlib.colormaps['Spectral'])\ncmaps = [cmap1, cmap2]\n\n# Plot each chromosome with its own colormap (to distinguish between chroms)\nbegin, end = 0, 0\nfor i, length in enumerate(lengths):\n    end += length\n    plot_chromosome(\n        struct[begin:end], ax=ax, cmap=cmaps[i], name=f'chromosome {i + 1}')\n    begin = end\n\n# Update and show figure\nplt.legend(loc='best')\nplt.show()"
      ]
    }
  ],
  "metadata": {
    "kernelspec": {
      "display_name": "Python 3",
      "language": "python",
      "name": "python3"
    },
    "language_info": {
      "codemirror_mode": {
        "name": "ipython",
        "version": 3
      },
      "file_extension": ".py",
      "mimetype": "text/x-python",
      "name": "python",
      "nbconvert_exporter": "python",
      "pygments_lexer": "ipython3",
      "version": "3.9.21"
    }
  },
  "nbformat": 4,
  "nbformat_minor": 0
}