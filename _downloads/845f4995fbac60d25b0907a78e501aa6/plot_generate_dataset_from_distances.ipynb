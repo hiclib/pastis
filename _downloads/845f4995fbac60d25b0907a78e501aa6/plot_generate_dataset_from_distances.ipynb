{
  "cells": [
    {
      "cell_type": "code",
      "execution_count": null,
      "metadata": {
        "collapsed": false
      },
      "outputs": [],
      "source": [
        "%matplotlib inline"
      ]
    },
    {
      "cell_type": "markdown",
      "metadata": {},
      "source": [
        "\n# Generate a random dataset from a distance matrix\n\nThis example showcases how to generated a random dataset from a distance\nmatrix using different probability distribution.\n"
      ]
    },
    {
      "cell_type": "code",
      "execution_count": null,
      "metadata": {
        "collapsed": false
      },
      "outputs": [],
      "source": [
        "import numpy as np\nimport matplotlib.pyplot as plt\nfrom matplotlib import colors\n\nfrom sklearn.metrics import euclidean_distances\n\nfrom pastis.datasets import generate_dataset_from_distances\nfrom pastis.optimization.mds import estimate_X\nimport iced"
      ]
    },
    {
      "cell_type": "markdown",
      "metadata": {},
      "source": [
        "Generate a 3D\u00a0structure from a toy dataset\n\n"
      ]
    },
    {
      "cell_type": "code",
      "execution_count": null,
      "metadata": {
        "collapsed": false
      },
      "outputs": [],
      "source": [
        "counts, lengths = iced.datasets.load_sample_yeast()\ncounts = iced.filter.filter_low_counts(counts, remove_all_zeros_loci=True,\n                                       sparsity=False)\ncounts = iced.normalization.ICE_normalization(counts)\nstructure = estimate_X(counts)\ndistances = euclidean_distances(structure, structure)"
      ]
    },
    {
      "cell_type": "markdown",
      "metadata": {},
      "source": [
        "Now, generate the contact count matrix from the distance matrix\n\n"
      ]
    },
    {
      "cell_type": "code",
      "execution_count": null,
      "metadata": {
        "collapsed": false
      },
      "outputs": [],
      "source": [
        "negative_binomial_count = generate_dataset_from_distances(\n    distances, alpha=-3, distribution=\"NegativeBinomial\")\npoisson_count = generate_dataset_from_distances(\n    distances, alpha=-3, distribution=\"Poisson\", lengths=lengths,\n    alpha_inter=-2)"
      ]
    },
    {
      "cell_type": "markdown",
      "metadata": {},
      "source": [
        "Plot the resulting contact count matrices\n\n"
      ]
    },
    {
      "cell_type": "code",
      "execution_count": null,
      "metadata": {
        "collapsed": false
      },
      "outputs": [],
      "source": [
        "fig, axes = plt.subplots(figsize=(7, 7),\n                         ncols=2, nrows=2, tight_layout=True)\n\n\ndef plot_matrix(ax, matrix, cmap=\"RdBu_r\", norm=None, lengths=None):\n    if lengths is None:\n        lengths = np.array([matrix.shape[0]])\n    ax.matshow(matrix, cmap=cmap, norm=norm,\n               extent=(0, lengths.sum(), 0, lengths.sum()))\n    [ax.axhline(i, linewidth=1, color=\"#000000\") for i in lengths.cumsum()]\n    [ax.axvline(i, linewidth=1, color=\"#000000\") for i in lengths.cumsum()]\n    ax.set_xticks([])\n    ax.set_yticks([])\n\n\n# First, plot the original contact count matrix\nplot_matrix(axes[0, 0], counts, norm=colors.SymLogNorm(1), lengths=lengths)\naxes[0, 0].set_title(\"Contact counts\", fontweight=\"bold\")\n\n# Plot the distance matrix used as input to the generated data function\nplot_matrix(axes[0, 1], distances, cmap=\"viridis\", lengths=lengths)\naxes[0, 1].set_title(\"Distance matrix\", fontweight=\"bold\")\n\n# The negative binomial counts\nplot_matrix(axes[1, 0], negative_binomial_count, norm=colors.SymLogNorm(1),\n            lengths=lengths)\naxes[1, 0].set_title(\"Simulated dataset (NB)\", fontweight=\"bold\")\n\n# The Poisson dataset\nplot_matrix(axes[1, 1], poisson_count, norm=colors.SymLogNorm(1),\n            lengths=lengths)\naxes[1, 1].set_title(\"Simulated dataset (Poisson)\", fontweight=\"bold\")"
      ]
    }
  ],
  "metadata": {
    "kernelspec": {
      "display_name": "Python 3",
      "language": "python",
      "name": "python3"
    },
    "language_info": {
      "codemirror_mode": {
        "name": "ipython",
        "version": 3
      },
      "file_extension": ".py",
      "mimetype": "text/x-python",
      "name": "python",
      "nbconvert_exporter": "python",
      "pygments_lexer": "ipython3",
      "version": "3.9.2"
    }
  },
  "nbformat": 4,
  "nbformat_minor": 0
}